{
  "nbformat": 4,
  "nbformat_minor": 0,
  "metadata": {
    "colab": {
      "name": "Mashithandu",
      "provenance": [],
      "collapsed_sections": [],
      "include_colab_link": true
    },
    "kernelspec": {
      "display_name": "Python 3",
      "name": "python3"
    }
  },
  "cells": [
    {
      "cell_type": "markdown",
      "metadata": {
        "id": "view-in-github",
        "colab_type": "text"
      },
      "source": [
        "<a href=\"https://colab.research.google.com/github/rohittp0/mashithandu/blob/main/Mashithandu.ipynb\" target=\"_parent\"><img src=\"https://colab.research.google.com/assets/colab-badge.svg\" alt=\"Open In Colab\"/></a>"
      ]
    },
    {
      "cell_type": "markdown",
      "metadata": {
        "id": "uDc5pXyQL7Zx"
      },
      "source": [
        "Go to [GitHub](https://github.com/settings/tokens) to generate token.\n",
        "\n",
        "Don't forget add repo scope when creating token.\n",
        "\n",
        "email is your github Email ID\n",
        "uname is github username ( eg mine is rohittp0 )\n",
        "\n",
        "token is the token you just generated.\n",
        "\n",
        "**DO NOT TOUCH THE REPO FIELD OR YOU WILL BE CURSED BY BASH FOR ETERNITY**\n",
        "\n",
        "\n",
        "\n"
      ]
    },
    {
      "cell_type": "code",
      "metadata": {
        "cellView": "form",
        "id": "dFP9gPbV87D4"
      },
      "source": [
        "#@title Git Hub Login\n",
        "repo = \"github.com/rohittp0/mashithandu.git\" #@param {type:\"string\" }\n",
        "email = \"\" #@param {type:\"string\" }\n",
        "uname= \"\" #@param {type:\"string\" }\n",
        "token = \"\" #@param {type:\"string\" }\n",
        "\n",
        "! rm -rf *\n",
        "! git clone https://$token@$repo\n",
        "! cp -rT /content/mashithandu . \n",
        "! rm -rf /content/mashithandu\n",
        "! git config --global user.email \"$email\"\n",
        "! git config --global user.name \"$uname\""
      ],
      "execution_count": null,
      "outputs": []
    },
    {
      "cell_type": "markdown",
      "metadata": {
        "id": "0Bf-abniTigF"
      },
      "source": [
        "Copy this to next code cell,\n",
        "\n",
        "Replace `Your Name` with your actual name ( no judgement if you are actually called *Your Name* )\n",
        "\n",
        "```\n",
        "! printf \"\\nYour Name\" >> blackboard/addName.txt\n",
        "```"
      ]
    },
    {
      "cell_type": "code",
      "metadata": {
        "id": "oY0k9rDg3Hof"
      },
      "source": [
        ""
      ],
      "execution_count": null,
      "outputs": []
    },
    {
      "cell_type": "markdown",
      "metadata": {
        "id": "D528WM8lUZ5z"
      },
      "source": [
        "Now you have to commit your changes.\n",
        "\n",
        "Use\n",
        "\n",
        "```\n",
        "! git commit -a -m \"Added my name\"\n",
        "```\n",
        "\n",
        "Here Added my name is the commit message and it can be virtually anything. Usually it is a small phrase expressing what you are commiting."
      ]
    },
    {
      "cell_type": "code",
      "metadata": {
        "id": "hJvCNDab5TF6"
      },
      "source": [
        ""
      ],
      "execution_count": null,
      "outputs": []
    },
    {
      "cell_type": "markdown",
      "metadata": {
        "id": "wxbnLb_xU28C"
      },
      "source": [
        "Now that you are all done push the changes to GitHub.\n",
        "\n",
        "The command for that is,\n",
        "\n",
        "```\n",
        "! git push\n",
        "```\n",
        "\n"
      ]
    },
    {
      "cell_type": "code",
      "metadata": {
        "id": "iHA5zajDODI4"
      },
      "source": [
        ""
      ],
      "execution_count": null,
      "outputs": []
    }
  ]
}